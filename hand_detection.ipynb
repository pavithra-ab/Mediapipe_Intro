{
 "cells": [
  {
   "cell_type": "markdown",
   "metadata": {},
   "source": [
    "Real-Time Hand Tracking and Landmark Visualization"
   ]
  },
  {
   "cell_type": "markdown",
   "metadata": {},
   "source": [
    "This Python script uses the mediapipe library along with OpenCV to perform real-time hand tracking and landmark visualization using the computer's webcam."
   ]
  },
  {
   "cell_type": "code",
   "execution_count": 1,
   "metadata": {},
   "outputs": [],
   "source": [
    "import mediapipe as mp"
   ]
  },
  {
   "cell_type": "code",
   "execution_count": 2,
   "metadata": {},
   "outputs": [],
   "source": [
    "import cv2"
   ]
  },
  {
   "cell_type": "code",
   "execution_count": 3,
   "metadata": {},
   "outputs": [],
   "source": [
    "#we need 2 modules\n",
    "mphands = mp.solutions.hands    #mediapipe package,solutions subpackage,hands module\n",
    "mp_drawing = mp.solutions.drawing_utils"
   ]
  },
  {
   "cell_type": "code",
   "execution_count": 4,
   "metadata": {},
   "outputs": [],
   "source": [
    "#hands class is used\n",
    "Hand = mphands.Hands()"
   ]
  },
  {
   "cell_type": "code",
   "execution_count": 5,
   "metadata": {},
   "outputs": [],
   "source": [
    "#to open webcam\n",
    "video = cv2.VideoCapture(0)\n",
    "while True:\n",
    "    suc,image = video.read()\n",
    "    #convert bgr to rgb to get good results\n",
    "    image = cv2.cvtColor(image,cv2.COLOR_BGR2RGB)\n",
    "    #identify hand landmarks #results variable store the landmark\n",
    "    results = Hand.process(image)\n",
    "    image = cv2.cvtColor(image,cv2.COLOR_RGB2BGR)\n",
    "    #print(results)\n",
    "    if results.multi_hand_landmarks: #if hand is recognized then execute the loop\n",
    "        for hand_landmarks in results.multi_hand_landmarks: #im going to draw the landmarks\n",
    "            mp_drawing.draw_landmarks(image,hand_landmarks,mphands.HAND_CONNECTIONS)\n",
    "\n",
    "\n",
    "    cv2.imshow('Hand',image)\n",
    "    if cv2.waitKey(1) & 0XFF==ord('q'):\n",
    "        break\n",
    "video.release()\n",
    "cv2.destroyAllWindows()\n"
   ]
  },
  {
   "cell_type": "code",
   "execution_count": 6,
   "metadata": {},
   "outputs": [
    {
     "name": "stdout",
     "output_type": "stream",
     "text": [
      "landmark {\n",
      "  x: 0.21151069\n",
      "  y: 0.8654953\n",
      "  z: 5.573757e-07\n",
      "}\n",
      "landmark {\n",
      "  x: 0.29091898\n",
      "  y: 0.7772205\n",
      "  z: -0.03842778\n",
      "}\n",
      "landmark {\n",
      "  x: 0.32337826\n",
      "  y: 0.6435491\n",
      "  z: -0.05157781\n",
      "}\n",
      "landmark {\n",
      "  x: 0.32803288\n",
      "  y: 0.52777135\n",
      "  z: -0.06264104\n",
      "}\n",
      "landmark {\n",
      "  x: 0.3557135\n",
      "  y: 0.44160077\n",
      "  z: -0.07325258\n",
      "}\n",
      "landmark {\n",
      "  x: 0.26095536\n",
      "  y: 0.5023751\n",
      "  z: -0.022738347\n",
      "}\n",
      "landmark {\n",
      "  x: 0.25086582\n",
      "  y: 0.36296284\n",
      "  z: -0.04962968\n",
      "}\n",
      "landmark {\n",
      "  x: 0.23914154\n",
      "  y: 0.27556783\n",
      "  z: -0.07248254\n",
      "}\n",
      "landmark {\n",
      "  x: 0.22762561\n",
      "  y: 0.19992745\n",
      "  z: -0.089322604\n",
      "}\n",
      "landmark {\n",
      "  x: 0.20120633\n",
      "  y: 0.50673187\n",
      "  z: -0.024063732\n",
      "}\n",
      "landmark {\n",
      "  x: 0.18834633\n",
      "  y: 0.35752463\n",
      "  z: -0.047814786\n",
      "}\n",
      "landmark {\n",
      "  x: 0.17975427\n",
      "  y: 0.2582034\n",
      "  z: -0.06939104\n",
      "}\n",
      "landmark {\n",
      "  x: 0.17332405\n",
      "  y: 0.17314622\n",
      "  z: -0.08505474\n",
      "}\n",
      "landmark {\n",
      "  x: 0.14882384\n",
      "  y: 0.5380656\n",
      "  z: -0.031498082\n",
      "}\n",
      "landmark {\n",
      "  x: 0.13322419\n",
      "  y: 0.39784974\n",
      "  z: -0.05619598\n",
      "}\n",
      "landmark {\n",
      "  x: 0.12664093\n",
      "  y: 0.3033183\n",
      "  z: -0.07433854\n",
      "}\n",
      "landmark {\n",
      "  x: 0.12447971\n",
      "  y: 0.22063556\n",
      "  z: -0.08680679\n",
      "}\n",
      "landmark {\n",
      "  x: 0.09735553\n",
      "  y: 0.5908961\n",
      "  z: -0.04308922\n",
      "}\n",
      "landmark {\n",
      "  x: 0.073601395\n",
      "  y: 0.48770544\n",
      "  z: -0.067614585\n",
      "}\n",
      "landmark {\n",
      "  x: 0.064168155\n",
      "  y: 0.41532683\n",
      "  z: -0.07986107\n",
      "}\n",
      "landmark {\n",
      "  x: 0.05942586\n",
      "  y: 0.34515542\n",
      "  z: -0.08737578\n",
      "}\n",
      "\n"
     ]
    }
   ],
   "source": [
    "#inside the object there is a multihand landmrk where\n",
    "print(hand_landmarks) #value corresponding to 21 landmarks is stored"
   ]
  }
 ],
 "metadata": {
  "kernelspec": {
   "display_name": "Python 3",
   "language": "python",
   "name": "python3"
  },
  "language_info": {
   "codemirror_mode": {
    "name": "ipython",
    "version": 3
   },
   "file_extension": ".py",
   "mimetype": "text/x-python",
   "name": "python",
   "nbconvert_exporter": "python",
   "pygments_lexer": "ipython3",
   "version": "3.11.2"
  },
  "orig_nbformat": 4
 },
 "nbformat": 4,
 "nbformat_minor": 2
}
